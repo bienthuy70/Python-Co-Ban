{
 "cells": [
  {
   "cell_type": "code",
   "execution_count": 1,
   "metadata": {},
   "outputs": [],
   "source": [
    "s=\"http://communityuni.com\"\n",
    "s2=\"http://duythanhcse.wordpress.com\"\n",
    "s3=\"duythanhcse@gmail.com\"\n",
    "s4=\"0987773061\"\n",
    "s5=\"facebook.com/duythanhcse\""
   ]
  },
  {
   "cell_type": "code",
   "execution_count": 2,
   "metadata": {},
   "outputs": [
    {
     "name": "stdout",
     "output_type": "stream",
     "text": [
      "http://communityuni.com\n",
      "http://duythanhcse.wordpress.com\n",
      "duythanhcse@gmail.com\n",
      "0987773061\n",
      "facebook.com/duythanhcse\n",
      "32\n",
      "32\n"
     ]
    }
   ],
   "source": [
    "print(s)\n",
    "print(s2)\n",
    "print(s3)\n",
    "print(s4)\n",
    "print(s5)\n",
    "print(len(s2))\n",
    "print(s2.__len__())"
   ]
  },
  {
   "cell_type": "code",
   "execution_count": 3,
   "metadata": {},
   "outputs": [
    {
     "name": "stdout",
     "output_type": "stream",
     "text": [
      "*********http://communityuni.com\n",
      "http://duythanhcse.wordpress.com\n",
      "***********duythanhcse@gmail.com\n",
      "**********************0987773061\n",
      "********facebook.com/duythanhcse\n"
     ]
    }
   ],
   "source": [
    "print(s.rjust(32,\"*\"))\n",
    "print(s2)\n",
    "print(s3.rjust(32,\"*\"))\n",
    "print(s4.rjust(32,\"*\"))\n",
    "print(s5.rjust(32,\"*\"))"
   ]
  },
  {
   "cell_type": "code",
   "execution_count": 4,
   "metadata": {},
   "outputs": [
    {
     "name": "stdout",
     "output_type": "stream",
     "text": [
      "    *    \n",
      "   ***   \n",
      "  *****  \n",
      " ******* \n",
      "*********\n"
     ]
    }
   ],
   "source": [
    "start1=\"*\"\n",
    "start2=\"***\"\n",
    "start3=\"*****\"\n",
    "start4=\"*******\"\n",
    "start5=\"*********\"\n",
    "print(start1.center(9))\n",
    "print(start2.center(9))\n",
    "print(start3.center(9))\n",
    "print(start4.center(9))\n",
    "print(start5.center(9))"
   ]
  },
  {
   "cell_type": "code",
   "execution_count": null,
   "metadata": {},
   "outputs": [],
   "source": []
  }
 ],
 "metadata": {
  "kernelspec": {
   "display_name": "Python 3",
   "language": "python",
   "name": "python3"
  },
  "language_info": {
   "codemirror_mode": {
    "name": "ipython",
    "version": 3
   },
   "file_extension": ".py",
   "mimetype": "text/x-python",
   "name": "python",
   "nbconvert_exporter": "python",
   "pygments_lexer": "ipython3",
   "version": "3.7.3"
  }
 },
 "nbformat": 4,
 "nbformat_minor": 2
}
