{
  "cells": [
    {
      "cell_type": "code",
      "execution_count": 1,
      "metadata": {
        "pycharm": {}
      },
      "outputs": [],
      "source": [
        "s\u003d\"sv001;Nguyễn Vũ Biên Thùy;06/08/1970\""
      ]
    },
    {
      "cell_type": "code",
      "execution_count": 2,
      "metadata": {
        "pycharm": {}
      },
      "outputs": [],
      "source": [
        "arr\u003ds.split(\";\")"
      ]
    },
    {
      "cell_type": "code",
      "execution_count": 4,
      "metadata": {
        "pycharm": {}
      },
      "outputs": [
        {
          "name": "stdout",
          "output_type": "stream",
          "text": [
            "3\n"
          ]
        }
      ],
      "source": [
        "print(len(arr))"
      ]
    },
    {
      "cell_type": "code",
      "execution_count": 5,
      "metadata": {
        "pycharm": {}
      },
      "outputs": [
        {
          "name": "stdout",
          "output_type": "stream",
          "text": [
            "sv001\n",
            "Nguyễn Vũ Biên Thùy\n",
            "06/08/1970\n"
          ]
        }
      ],
      "source": [
        "for x in arr:\n",
        "    print(x)"
      ]
    },
    {
      "cell_type": "code",
      "execution_count": 6,
      "metadata": {
        "pycharm": {}
      },
      "outputs": [
        {
          "data": {
            "text/plain": [
              "list"
            ]
          },
          "execution_count": 6,
          "metadata": {},
          "output_type": "execute_result"
        }
      ],
      "source": [
        "type(arr)"
      ]
    },
    {
      "cell_type": "code",
      "execution_count": 28,
      "metadata": {
        "pycharm": {}
      },
      "outputs": [],
      "source": [
        "s\u003d\"\"\"Obama\n",
        "Hahaha\n",
        "ali333\"\"\""
      ]
    },
    {
      "cell_type": "code",
      "execution_count": 29,
      "metadata": {
        "pycharm": {}
      },
      "outputs": [],
      "source": [
        "arr\u003ds.splitlines()"
      ]
    },
    {
      "cell_type": "code",
      "execution_count": 30,
      "metadata": {
        "pycharm": {}
      },
      "outputs": [
        {
          "data": {
            "text/plain": [
              "3"
            ]
          },
          "execution_count": 30,
          "metadata": {},
          "output_type": "execute_result"
        }
      ],
      "source": [
        "len(arr)"
      ]
    },
    {
      "cell_type": "code",
      "execution_count": 31,
      "metadata": {
        "pycharm": {}
      },
      "outputs": [
        {
          "data": {
            "text/plain": [
              "[\u0027Obama\u0027, \u0027Hahaha\u0027, \u0027ali333\u0027]"
            ]
          },
          "execution_count": 31,
          "metadata": {},
          "output_type": "execute_result"
        }
      ],
      "source": [
        "arr"
      ]
    },
    {
      "cell_type": "code",
      "execution_count": 33,
      "metadata": {
        "pycharm": {}
      },
      "outputs": [
        {
          "name": "stdout",
          "output_type": "stream",
          "text": [
            "Obama 2\n",
            "Hahaha 3\n",
            "ali333 1\n"
          ]
        }
      ],
      "source": [
        "for line in arr:\n",
        "    print(line,line.count(\"a\"))"
      ]
    },
    {
      "cell_type": "code",
      "execution_count": 34,
      "metadata": {
        "pycharm": {}
      },
      "outputs": [],
      "source": [
        "s\u003d\"\"\"sv001;Nguyễn Vũ Biên Thùy;06/08/1970\n",
        "sv002;Nguyễn Vũ Phương Thoa;07/02/1976\n",
        "sv003;Nguyễn Vũ Anh Thư;11/08/2003\n",
        "sv004;Nguyễn Vũ Anh Thy;10/04/2006\n",
        "\"\"\""
      ]
    },
    {
      "cell_type": "code",
      "execution_count": 35,
      "metadata": {
        "pycharm": {}
      },
      "outputs": [],
      "source": [
        "arr\u003ds.splitlines()"
      ]
    },
    {
      "cell_type": "code",
      "execution_count": 36,
      "metadata": {
        "pycharm": {}
      },
      "outputs": [
        {
          "data": {
            "text/plain": [
              "[\u0027sv001;Nguyễn Vũ Biên Thùy;06/08/1970\u0027,\n",
              " \u0027sv002;Nguyễn Vũ Phương Thoa;07/02/1976\u0027,\n",
              " \u0027sv003;Nguyễn Vũ Anh Thư;11/08/2003\u0027,\n",
              " \u0027sv004;Nguyễn Vũ Anh Thy;10/04/2006\u0027]"
            ]
          },
          "execution_count": 36,
          "metadata": {},
          "output_type": "execute_result"
        }
      ],
      "source": [
        "arr"
      ]
    },
    {
      "cell_type": "code",
      "execution_count": 39,
      "metadata": {
        "pycharm": {}
      },
      "outputs": [
        {
          "name": "stdout",
          "output_type": "stream",
          "text": [
            "[\u0027sv001\u0027, \u0027Nguyễn Vũ Biên Thùy\u0027, \u002706/08/1970\u0027]\n",
            "[\u0027sv002\u0027, \u0027Nguyễn Vũ Phương Thoa\u0027, \u002707/02/1976\u0027]\n",
            "[\u0027sv003\u0027, \u0027Nguyễn Vũ Anh Thư\u0027, \u002711/08/2003\u0027]\n",
            "[\u0027sv004\u0027, \u0027Nguyễn Vũ Anh Thy\u0027, \u002710/04/2006\u0027]\n"
          ]
        }
      ],
      "source": [
        "for dong in arr:\n",
        "    record\u003ddong.strip().split(\";\")\n",
        "    print(record)"
      ]
    },
    {
      "cell_type": "code",
      "execution_count": 43,
      "metadata": {
        "pycharm": {}
      },
      "outputs": [
        {
          "data": {
            "text/plain": [
              "\u0027sv001;Nguyễn Vũ Biên Thùy;06/08/1970\u0027"
            ]
          },
          "execution_count": 43,
          "metadata": {},
          "output_type": "execute_result"
        }
      ],
      "source": [
        "s\u003d\"sv001;Nguyễn Vũ Biên Thùy;06/08/1970\"\n",
        "s"
      ]
    },
    {
      "cell_type": "code",
      "execution_count": 41,
      "metadata": {
        "pycharm": {}
      },
      "outputs": [],
      "source": [
        "arr\u003ds.split(\";\")"
      ]
    },
    {
      "cell_type": "code",
      "execution_count": 42,
      "metadata": {
        "pycharm": {}
      },
      "outputs": [
        {
          "data": {
            "text/plain": [
              "[\u0027sv001\u0027, \u0027Nguyễn Vũ Biên Thùy\u0027, \u002706/08/1970\u0027]"
            ]
          },
          "execution_count": 42,
          "metadata": {},
          "output_type": "execute_result"
        }
      ],
      "source": [
        "arr"
      ]
    },
    {
      "cell_type": "code",
      "execution_count": 44,
      "metadata": {
        "pycharm": {}
      },
      "outputs": [],
      "source": [
        "s2\u003d\"#\""
      ]
    },
    {
      "cell_type": "code",
      "execution_count": 45,
      "metadata": {
        "pycharm": {}
      },
      "outputs": [],
      "source": [
        "s2\u003ds2.join(arr)"
      ]
    },
    {
      "cell_type": "code",
      "execution_count": 46,
      "metadata": {
        "pycharm": {}
      },
      "outputs": [
        {
          "data": {
            "text/plain": [
              "\u0027sv001#Nguyễn Vũ Biên Thùy#06/08/1970\u0027"
            ]
          },
          "execution_count": 46,
          "metadata": {},
          "output_type": "execute_result"
        }
      ],
      "source": [
        "s2"
      ]
    },
    {
      "cell_type": "code",
      "execution_count": null,
      "metadata": {
        "pycharm": {}
      },
      "outputs": [],
      "source": ""
    }
  ],
  "metadata": {
    "kernelspec": {
      "display_name": "Python 3",
      "language": "python",
      "name": "python3"
    },
    "language_info": {
      "codemirror_mode": {
        "name": "ipython",
        "version": 3
      },
      "file_extension": ".py",
      "mimetype": "text/x-python",
      "name": "python",
      "nbconvert_exporter": "python",
      "pygments_lexer": "ipython3",
      "version": "3.7.3"
    }
  },
  "nbformat": 4,
  "nbformat_minor": 2
}